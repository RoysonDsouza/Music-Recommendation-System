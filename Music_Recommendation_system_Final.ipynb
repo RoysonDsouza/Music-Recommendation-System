{
 "cells": [
  {
   "cell_type": "markdown",
   "metadata": {},
   "source": [
    "![Music_Recommodation](Music_Recommodation.png)"
   ]
  },
  {
   "cell_type": "markdown",
   "metadata": {},
   "source": [
    "# **Music Recommendation System**"
   ]
  },
  {
   "cell_type": "markdown",
   "metadata": {},
   "source": [
    "## **Problem Statement**\n",
    "Music streaming platforms often struggle to provide personalized recommendations. Our goal is to develop a system that recommends songs based on both content (lyrics & audio features) and user preferences using hybrid methods."
   ]
  },
  {
   "cell_type": "markdown",
   "metadata": {},
   "source": [
    "## **Dataset**\n",
    "We use the `tcc_ceds_music.csv` dataset containing metadata and audio features of songs.\n",
    "We perform preprocessing on missing values and selected feature columns."
   ]
  },
  {
   "cell_type": "markdown",
   "metadata": {},
   "source": [
    "## **Selected Models**\n",
    "1. Content-based (Lyrics using TF-IDF + Cosine Similarity)\n",
    "2. Content-based (Lyrics using Word2Vec + Cosine Similarity)\n",
    "3. Content-based (Audio Features using Cosine Similarity)"
   ]
  },
  {
   "cell_type": "markdown",
   "metadata": {},
   "source": [
    "## **Evaluation Criteria**\n",
    "As the system generates recommendations, we evaluate models based on\n",
    "- **Similarity Score (Cosine Similarity)**"
   ]
  },
  {
   "cell_type": "markdown",
   "metadata": {},
   "source": [
    "## **Install Neccessary Libraries**"
   ]
  },
  {
   "cell_type": "code",
   "execution_count": 22,
   "metadata": {},
   "outputs": [
    {
     "name": "stdout",
     "output_type": "stream",
     "text": [
      "Requirement already satisfied: scikit-surprise in ./tf-env/lib/python3.10/site-packages (1.1.4)\n",
      "Requirement already satisfied: joblib>=1.2.0 in ./tf-env/lib/python3.10/site-packages (from scikit-surprise) (1.5.0)\n",
      "Requirement already satisfied: numpy>=1.19.5 in ./tf-env/lib/python3.10/site-packages (from scikit-surprise) (1.26.4)\n",
      "Requirement already satisfied: scipy>=1.6.0 in ./tf-env/lib/python3.10/site-packages (from scikit-surprise) (1.13.1)\n",
      "Note: you may need to restart the kernel to use updated packages.\n"
     ]
    }
   ],
   "source": [
    "pip install scikit-surprise"
   ]
  },
  {
   "cell_type": "code",
   "execution_count": 23,
   "metadata": {},
   "outputs": [
    {
     "name": "stdout",
     "output_type": "stream",
     "text": [
      "Requirement already satisfied: gensim in ./tf-env/lib/python3.10/site-packages (4.3.3)\n",
      "Requirement already satisfied: numpy<2.0,>=1.18.5 in ./tf-env/lib/python3.10/site-packages (from gensim) (1.26.4)\n",
      "Requirement already satisfied: scipy<1.14.0,>=1.7.0 in ./tf-env/lib/python3.10/site-packages (from gensim) (1.13.1)\n",
      "Requirement already satisfied: smart-open>=1.8.1 in ./tf-env/lib/python3.10/site-packages (from gensim) (7.1.0)\n",
      "Requirement already satisfied: wrapt in ./tf-env/lib/python3.10/site-packages (from smart-open>=1.8.1->gensim) (1.17.2)\n",
      "Note: you may need to restart the kernel to use updated packages.\n"
     ]
    }
   ],
   "source": [
    "pip install gensim"
   ]
  },
  {
   "cell_type": "markdown",
   "metadata": {
    "id": "EKINVvDNVWTC"
   },
   "source": [
    "## **Importing Libraries & Dataset**"
   ]
  },
  {
   "cell_type": "code",
   "execution_count": 2,
   "metadata": {
    "id": "kJ_74axcTJ_d"
   },
   "outputs": [],
   "source": [
    "# Import essential libraries for data manipulation and visualization\n",
    "import pandas as pd                    # For handling data in tabular form (DataFrames)\n",
    "import numpy as np                     # For numerical operations\n",
    "import matplotlib.pyplot as plt        # For creating plots and graphs\n",
    "import seaborn as sns                  # For advanced data visualizations\n",
    "import random                          # For generating random numbers (e.g., simulating user ratings)\n",
    "import gensim                          # Gensim library for text modeling (Word2Vec, etc.)\n",
    "\n",
    "# Machine Learning & NLP Models\n",
    "from sklearn.feature_extraction.text import TfidfVectorizer   # To convert text to TF-IDF matrix\n",
    "from sklearn.metrics.pairwise import cosine_similarity        # To compute similarity between vectors\n",
    "from sklearn.preprocessing import MinMaxScaler                # To normalize feature values between 0 and 1\n",
    "\n",
    "# Collaborative filtering model\n",
    "from surprise import SVD, Dataset, Reader                     # SVD for collaborative filtering\n",
    "\n",
    "# Gensim NLP Tools\n",
    "from gensim.utils import simple_preprocess                    # Tokenizes and preprocesses text\n",
    "from gensim.models import Word2Vec                            # Word2Vec model for word embeddings"
   ]
  },
  {
   "cell_type": "code",
   "execution_count": 2,
   "metadata": {},
   "outputs": [],
   "source": [
    "# Load data\n",
    "data = pd.read_csv('tcc_ceds_music.csv')"
   ]
  },
  {
   "cell_type": "code",
   "execution_count": 3,
   "metadata": {},
   "outputs": [
    {
     "name": "stdout",
     "output_type": "stream",
     "text": [
      "<class 'pandas.core.frame.DataFrame'>\n",
      "RangeIndex: 28372 entries, 0 to 28371\n",
      "Data columns (total 31 columns):\n",
      " #   Column                    Non-Null Count  Dtype  \n",
      "---  ------                    --------------  -----  \n",
      " 0   Unnamed: 0                28372 non-null  int64  \n",
      " 1   artist_name               28372 non-null  object \n",
      " 2   track_name                28372 non-null  object \n",
      " 3   release_date              28372 non-null  int64  \n",
      " 4   genre                     28372 non-null  object \n",
      " 5   lyrics                    28372 non-null  object \n",
      " 6   len                       28372 non-null  int64  \n",
      " 7   dating                    28372 non-null  float64\n",
      " 8   violence                  28372 non-null  float64\n",
      " 9   world/life                28372 non-null  float64\n",
      " 10  night/time                28372 non-null  float64\n",
      " 11  shake the audience        28372 non-null  float64\n",
      " 12  family/gospel             28372 non-null  float64\n",
      " 13  romantic                  28372 non-null  float64\n",
      " 14  communication             28372 non-null  float64\n",
      " 15  obscene                   28372 non-null  float64\n",
      " 16  music                     28372 non-null  float64\n",
      " 17  movement/places           28372 non-null  float64\n",
      " 18  light/visual perceptions  28372 non-null  float64\n",
      " 19  family/spiritual          28372 non-null  float64\n",
      " 20  like/girls                28372 non-null  float64\n",
      " 21  sadness                   28372 non-null  float64\n",
      " 22  feelings                  28372 non-null  float64\n",
      " 23  danceability              28372 non-null  float64\n",
      " 24  loudness                  28372 non-null  float64\n",
      " 25  acousticness              28372 non-null  float64\n",
      " 26  instrumentalness          28372 non-null  float64\n",
      " 27  valence                   28372 non-null  float64\n",
      " 28  energy                    28372 non-null  float64\n",
      " 29  topic                     28372 non-null  object \n",
      " 30  age                       28372 non-null  float64\n",
      "dtypes: float64(23), int64(3), object(5)\n",
      "memory usage: 6.7+ MB\n"
     ]
    }
   ],
   "source": [
    "# Show basic information of the dataset along with the data type of each column\n",
    "data.info()"
   ]
  },
  {
   "cell_type": "code",
   "execution_count": 4,
   "metadata": {
    "colab": {
     "base_uri": "https://localhost:8080/",
     "height": 655
    },
    "id": "qXwNGGT6TWSa",
    "outputId": "4eb91510-b1cb-4eb2-9bf4-99c5e41e32fe"
   },
   "outputs": [
    {
     "data": {
      "text/html": [
       "<div>\n",
       "<style scoped>\n",
       "    .dataframe tbody tr th:only-of-type {\n",
       "        vertical-align: middle;\n",
       "    }\n",
       "\n",
       "    .dataframe tbody tr th {\n",
       "        vertical-align: top;\n",
       "    }\n",
       "\n",
       "    .dataframe thead th {\n",
       "        text-align: right;\n",
       "    }\n",
       "</style>\n",
       "<table border=\"1\" class=\"dataframe\">\n",
       "  <thead>\n",
       "    <tr style=\"text-align: right;\">\n",
       "      <th></th>\n",
       "      <th>Unnamed: 0</th>\n",
       "      <th>artist_name</th>\n",
       "      <th>track_name</th>\n",
       "      <th>release_date</th>\n",
       "      <th>genre</th>\n",
       "      <th>lyrics</th>\n",
       "      <th>len</th>\n",
       "      <th>dating</th>\n",
       "      <th>violence</th>\n",
       "      <th>world/life</th>\n",
       "      <th>...</th>\n",
       "      <th>sadness</th>\n",
       "      <th>feelings</th>\n",
       "      <th>danceability</th>\n",
       "      <th>loudness</th>\n",
       "      <th>acousticness</th>\n",
       "      <th>instrumentalness</th>\n",
       "      <th>valence</th>\n",
       "      <th>energy</th>\n",
       "      <th>topic</th>\n",
       "      <th>age</th>\n",
       "    </tr>\n",
       "  </thead>\n",
       "  <tbody>\n",
       "    <tr>\n",
       "      <th>0</th>\n",
       "      <td>0</td>\n",
       "      <td>mukesh</td>\n",
       "      <td>mohabbat bhi jhoothi</td>\n",
       "      <td>1950</td>\n",
       "      <td>pop</td>\n",
       "      <td>hold time feel break feel untrue convince spea...</td>\n",
       "      <td>95</td>\n",
       "      <td>0.000598</td>\n",
       "      <td>0.063746</td>\n",
       "      <td>0.000598</td>\n",
       "      <td>...</td>\n",
       "      <td>0.380299</td>\n",
       "      <td>0.117175</td>\n",
       "      <td>0.357739</td>\n",
       "      <td>0.454119</td>\n",
       "      <td>0.997992</td>\n",
       "      <td>0.901822</td>\n",
       "      <td>0.339448</td>\n",
       "      <td>0.137110</td>\n",
       "      <td>sadness</td>\n",
       "      <td>1.0</td>\n",
       "    </tr>\n",
       "    <tr>\n",
       "      <th>1</th>\n",
       "      <td>4</td>\n",
       "      <td>frankie laine</td>\n",
       "      <td>i believe</td>\n",
       "      <td>1950</td>\n",
       "      <td>pop</td>\n",
       "      <td>believe drop rain fall grow believe darkest ni...</td>\n",
       "      <td>51</td>\n",
       "      <td>0.035537</td>\n",
       "      <td>0.096777</td>\n",
       "      <td>0.443435</td>\n",
       "      <td>...</td>\n",
       "      <td>0.001284</td>\n",
       "      <td>0.001284</td>\n",
       "      <td>0.331745</td>\n",
       "      <td>0.647540</td>\n",
       "      <td>0.954819</td>\n",
       "      <td>0.000002</td>\n",
       "      <td>0.325021</td>\n",
       "      <td>0.263240</td>\n",
       "      <td>world/life</td>\n",
       "      <td>1.0</td>\n",
       "    </tr>\n",
       "    <tr>\n",
       "      <th>2</th>\n",
       "      <td>6</td>\n",
       "      <td>johnnie ray</td>\n",
       "      <td>cry</td>\n",
       "      <td>1950</td>\n",
       "      <td>pop</td>\n",
       "      <td>sweetheart send letter goodbye secret feel bet...</td>\n",
       "      <td>24</td>\n",
       "      <td>0.002770</td>\n",
       "      <td>0.002770</td>\n",
       "      <td>0.002770</td>\n",
       "      <td>...</td>\n",
       "      <td>0.002770</td>\n",
       "      <td>0.225422</td>\n",
       "      <td>0.456298</td>\n",
       "      <td>0.585288</td>\n",
       "      <td>0.840361</td>\n",
       "      <td>0.000000</td>\n",
       "      <td>0.351814</td>\n",
       "      <td>0.139112</td>\n",
       "      <td>music</td>\n",
       "      <td>1.0</td>\n",
       "    </tr>\n",
       "    <tr>\n",
       "      <th>3</th>\n",
       "      <td>10</td>\n",
       "      <td>pérez prado</td>\n",
       "      <td>patricia</td>\n",
       "      <td>1950</td>\n",
       "      <td>pop</td>\n",
       "      <td>kiss lips want stroll charm mambo chacha merin...</td>\n",
       "      <td>54</td>\n",
       "      <td>0.048249</td>\n",
       "      <td>0.001548</td>\n",
       "      <td>0.001548</td>\n",
       "      <td>...</td>\n",
       "      <td>0.225889</td>\n",
       "      <td>0.001548</td>\n",
       "      <td>0.686992</td>\n",
       "      <td>0.744404</td>\n",
       "      <td>0.083935</td>\n",
       "      <td>0.199393</td>\n",
       "      <td>0.775350</td>\n",
       "      <td>0.743736</td>\n",
       "      <td>romantic</td>\n",
       "      <td>1.0</td>\n",
       "    </tr>\n",
       "    <tr>\n",
       "      <th>4</th>\n",
       "      <td>12</td>\n",
       "      <td>giorgos papadopoulos</td>\n",
       "      <td>apopse eida oneiro</td>\n",
       "      <td>1950</td>\n",
       "      <td>pop</td>\n",
       "      <td>till darling till matter know till dream live ...</td>\n",
       "      <td>48</td>\n",
       "      <td>0.001350</td>\n",
       "      <td>0.001350</td>\n",
       "      <td>0.417772</td>\n",
       "      <td>...</td>\n",
       "      <td>0.068800</td>\n",
       "      <td>0.001350</td>\n",
       "      <td>0.291671</td>\n",
       "      <td>0.646489</td>\n",
       "      <td>0.975904</td>\n",
       "      <td>0.000246</td>\n",
       "      <td>0.597073</td>\n",
       "      <td>0.394375</td>\n",
       "      <td>romantic</td>\n",
       "      <td>1.0</td>\n",
       "    </tr>\n",
       "  </tbody>\n",
       "</table>\n",
       "<p>5 rows × 31 columns</p>\n",
       "</div>"
      ],
      "text/plain": [
       "   Unnamed: 0           artist_name            track_name  release_date genre  \\\n",
       "0           0                mukesh  mohabbat bhi jhoothi          1950   pop   \n",
       "1           4         frankie laine             i believe          1950   pop   \n",
       "2           6           johnnie ray                   cry          1950   pop   \n",
       "3          10           pérez prado              patricia          1950   pop   \n",
       "4          12  giorgos papadopoulos    apopse eida oneiro          1950   pop   \n",
       "\n",
       "                                              lyrics  len    dating  violence  \\\n",
       "0  hold time feel break feel untrue convince spea...   95  0.000598  0.063746   \n",
       "1  believe drop rain fall grow believe darkest ni...   51  0.035537  0.096777   \n",
       "2  sweetheart send letter goodbye secret feel bet...   24  0.002770  0.002770   \n",
       "3  kiss lips want stroll charm mambo chacha merin...   54  0.048249  0.001548   \n",
       "4  till darling till matter know till dream live ...   48  0.001350  0.001350   \n",
       "\n",
       "   world/life  ...   sadness  feelings  danceability  loudness  acousticness  \\\n",
       "0    0.000598  ...  0.380299  0.117175      0.357739  0.454119      0.997992   \n",
       "1    0.443435  ...  0.001284  0.001284      0.331745  0.647540      0.954819   \n",
       "2    0.002770  ...  0.002770  0.225422      0.456298  0.585288      0.840361   \n",
       "3    0.001548  ...  0.225889  0.001548      0.686992  0.744404      0.083935   \n",
       "4    0.417772  ...  0.068800  0.001350      0.291671  0.646489      0.975904   \n",
       "\n",
       "   instrumentalness   valence    energy       topic  age  \n",
       "0          0.901822  0.339448  0.137110     sadness  1.0  \n",
       "1          0.000002  0.325021  0.263240  world/life  1.0  \n",
       "2          0.000000  0.351814  0.139112       music  1.0  \n",
       "3          0.199393  0.775350  0.743736    romantic  1.0  \n",
       "4          0.000246  0.597073  0.394375    romantic  1.0  \n",
       "\n",
       "[5 rows x 31 columns]"
      ]
     },
     "execution_count": 4,
     "metadata": {},
     "output_type": "execute_result"
    }
   ],
   "source": [
    "# Display first five row\n",
    "data.head()"
   ]
  },
  {
   "cell_type": "markdown",
   "metadata": {
    "id": "HdbMFtyrVyTe"
   },
   "source": [
    "## **Exploratory Data Analysis (EDA)**\n",
    "Distribution of Songs by Genre"
   ]
  },
  {
   "cell_type": "code",
   "execution_count": 5,
   "metadata": {
    "colab": {
     "base_uri": "https://localhost:8080/",
     "height": 409
    },
    "id": "uaFahlGCTsHv",
    "outputId": "14050a48-c040-4cdd-d12f-8ec530605344"
   },
   "outputs": [
    {
     "data": {
      "image/png": "[encoded data removed]",
      "text/plain": [
       "<Figure size 1000x600 with 1 Axes>"
      ]
     },
     "metadata": {},
     "output_type": "display_data"
    }
   ],
   "source": [
    "# Create a figure with size 10x6 inches\n",
    "plt.figure(figsize=(10, 6))\n",
    "\n",
    "# Plot a horizontal bar chart showing the count of each genre,\n",
    "# ordering by the top 10 most frequent genres in the dataset\n",
    "sns.countplot(y='genre', data=data, order=data['genre'].value_counts().index[:10])\n",
    "\n",
    "# Set the title and axis labels\n",
    "plt.title('Top 10 Genres')\n",
    "plt.xlabel('Count')\n",
    "plt.ylabel('Genre')\n",
    "\n",
    "# Display the plot\n",
    "plt.show()"
   ]
  },
  {
   "cell_type": "markdown",
   "metadata": {
    "id": "9JY1atxbWJLE"
   },
   "source": [
    "## **Top Artists by Song Count**"
   ]
  },
  {
   "cell_type": "code",
   "execution_count": 6,
   "metadata": {
    "colab": {
     "base_uri": "https://localhost:8080/",
     "height": 493
    },
    "id": "pD6msG7mTyY7",
    "outputId": "85371980-49c4-4882-f9d0-4a3d848429d0"
   },
   "outputs": [
    {
     "name": "stderr",
     "output_type": "stream",
     "text": [
      "/var/folders/kc/wzqlm10x69xgkrpv4q3bp89w0000gn/T/ipykernel_1188/1580862728.py:10: FutureWarning: \n",
      "\n",
      "Passing `palette` without assigning `hue` is deprecated and will be removed in v0.14.0. Assign the `y` variable to `hue` and set `legend=False` for the same effect.\n",
      "\n",
      "  sns.barplot(x=top_artists.values, y=top_artists.index, palette='viridis')\n"
     ]
    },
    {
     "data": {
      "image/png": "[encoded data removed]",
      "text/plain": [
       "<Figure size 1000x600 with 1 Axes>"
      ]
     },
     "metadata": {},
     "output_type": "display_data"
    }
   ],
   "source": [
    "# Group data by 'artist_name' and count the number of songs for each artist,\n",
    "# then sort the counts in descending order and select the top 10 artists\n",
    "top_artists = data.groupby('artist_name').size().sort_values(ascending=False).head(10)\n",
    "\n",
    "# Create a figure with size 10x6 inches\n",
    "plt.figure(figsize=(10, 6))\n",
    "\n",
    "# Plot a horizontal bar chart of the top 10 artists by number of songs,\n",
    "# using the 'viridis' color palette\n",
    "sns.barplot(x=top_artists.values, y=top_artists.index, palette='viridis')\n",
    "\n",
    "# Set the title and axis labels\n",
    "plt.title('Top 10 Artists by Number of Songs')\n",
    "plt.xlabel('Number of Songs')\n",
    "plt.ylabel('Artist Name')\n",
    "\n",
    "# Display the plot\n",
    "plt.show()"
   ]
  },
  {
   "cell_type": "markdown",
   "metadata": {},
   "source": [
    "### *Baseline Model*\n",
    "    • TF-IDF (Term Frequency-Inverse Document Frequency) + Cosine Similarity\n",
    "\n",
    "### *Type*\n",
    "    • Content-Based Recommendation (based on track , artist, and genre)\n",
    "\n",
    "### *How it works*\n",
    "\t• Creates a new combined_features column using genre + artist_name + track_name.\n",
    "\t• Transforms the combined text into vectors using TF-IDF.\n",
    "\t• Computes cosine similarity between all songs in the dataset.\n",
    "\t• Given an input song title (e.g., \"love\"), the model finds similar songs based on text similarity.\n",
    "\t• Returns Top N most similar songs.\n",
    "    \n",
    "### *Strengths of this model*\n",
    "\t• Simple and fast, good as a baseline model.\n",
    "\t• No user history required (solves the cold start problem).\n",
    "\t• Easy to understand and implement.\n",
    "\t• Works well for theme-based or keyword-based recommendations.\n",
    "    \n",
    "### *Limitations*\n",
    "\t• Does not understand semantics, only word frequency.\n",
    "\t• No real personalization — results are the same for everyone.\n",
    "\t• Less effective when songs have common words (e.g., “love”, “pop”, \"memories\")."
   ]
  },
  {
   "cell_type": "markdown",
   "metadata": {
    "id": "SdswJ9E4WQmQ"
   },
   "source": [
    "## **Preprocessing the Data**\n",
    "Combine Features"
   ]
  },
  {
   "cell_type": "code",
   "execution_count": 7,
   "metadata": {
    "id": "wFknn2uGT2ut"
   },
   "outputs": [
    {
     "data": {
      "text/plain": [
       "0                     pop mukesh mohabbat bhi jhoothi\n",
       "1                         pop frankie laine i believe\n",
       "2                                 pop johnnie ray cry\n",
       "3                            pop pérez prado patricia\n",
       "4         pop giorgos papadopoulos apopse eida oneiro\n",
       "                             ...                     \n",
       "28367                 hip hop mack 10 10 million ways\n",
       "28368    hip hop m.o.p. ante up (robbin hoodz theory)\n",
       "28369                      hip hop nine whutcha want?\n",
       "28370                       hip hop will smith switch\n",
       "28371                            hip hop jeezy r.i.p.\n",
       "Name: combined_features, Length: 28372, dtype: object"
      ]
     },
     "execution_count": 7,
     "metadata": {},
     "output_type": "execute_result"
    }
   ],
   "source": [
    "# Create a new column 'combined_features' by concatenating the 'genre', 'artist_name',\n",
    "# and 'track_name' columns as strings, filling any missing values with empty strings\n",
    "# This combined text will be used for further analysis or feature extraction\n",
    "data['combined_features'] = (\n",
    "    data['genre'].fillna('') + ' ' +\n",
    "    data['artist_name'].fillna('') + ' ' +\n",
    "    data['track_name'].fillna('')\n",
    ")\n",
    "\n",
    "# Display the new 'combined_features' column\n",
    "data['combined_features']"
   ]
  },
  {
   "cell_type": "markdown",
   "metadata": {
    "id": "EZAAsBqPWohu"
   },
   "source": [
    "## **Vectorize Text Data**"
   ]
  },
  {
   "cell_type": "code",
   "execution_count": 8,
   "metadata": {
    "id": "Bh8MukIuUOZE"
   },
   "outputs": [],
   "source": [
    "# Initialize the TF-IDF vectorizer to ignore common English stop words\n",
    "tfidf = TfidfVectorizer(stop_words='english')\n",
    "\n",
    "# Fit the TF-IDF model on the 'combined_features' column of the data\n",
    "# and transform the text data into a matrix of TF-IDF features (numerical vectors)\n",
    "tfidf_matrix = tfidf.fit_transform(data['combined_features'])"
   ]
  },
  {
   "cell_type": "code",
   "execution_count": 9,
   "metadata": {
    "colab": {
     "base_uri": "https://localhost:8080/",
     "height": 80
    },
    "id": "HScc64LdUU8p",
    "outputId": "5a0541b7-096f-4b32-f362-c2ac08e76137"
   },
   "outputs": [
    {
     "data": {
      "text/html": [
       "<style>#sk-container-id-1 {\n",
       "  /* Definition of color scheme common for light and dark mode */\n",
       "  --sklearn-color-text: #000;\n",
       "  --sklearn-color-text-muted: #666;\n",
       "  --sklearn-color-line: gray;\n",
       "  /* Definition of color scheme for unfitted estimators */\n",
       "  --sklearn-color-unfitted-level-0: #fff5e6;\n",
       "  --sklearn-color-unfitted-level-1: #f6e4d2;\n",
       "  --sklearn-color-unfitted-level-2: #ffe0b3;\n",
       "  --sklearn-color-unfitted-level-3: chocolate;\n",
       "  /* Definition of color scheme for fitted estimators */\n",
       "  --sklearn-color-fitted-level-0: #f0f8ff;\n",
       "  --sklearn-color-fitted-level-1: #d4ebff;\n",
       "  --sklearn-color-fitted-level-2: #b3dbfd;\n",
       "  --sklearn-color-fitted-level-3: cornflowerblue;\n",
       "\n",
       "  /* Specific color for light theme */\n",
       "  --sklearn-color-text-on-default-background: var(--sg-text-color, var(--theme-code-foreground, var(--jp-content-font-color1, black)));\n",
       "  --sklearn-color-background: var(--sg-background-color, var(--theme-background, var(--jp-layout-color0, white)));\n",
       "  --sklearn-color-border-box: var(--sg-text-color, var(--theme-code-foreground, var(--jp-content-font-color1, black)));\n",
       "  --sklearn-color-icon: #696969;\n",
       "\n",
       "  @media (prefers-color-scheme: dark) {\n",
       "    /* Redefinition of color scheme for dark theme */\n",
       "    --sklearn-color-text-on-default-background: var(--sg-text-color, var(--theme-code-foreground, var(--jp-content-font-color1, white)));\n",
       "    --sklearn-color-background: var(--sg-background-color, var(--theme-background, var(--jp-layout-color0, #111)));\n",
       "    --sklearn-color-border-box: var(--sg-text-color, var(--theme-code-foreground, var(--jp-content-font-color1, white)));\n",
       "    --sklearn-color-icon: #878787;\n",
       "  }\n",
       "}\n",
       "\n",
       "#sk-container-id-1 {\n",
       "  color: var(--sklearn-color-text);\n",
       "}\n",
       "\n",
       "#sk-container-id-1 pre {\n",
       "  padding: 0;\n",
       "}\n",
       "\n",
       "#sk-container-id-1 input.sk-hidden--visually {\n",
       "  border: 0;\n",
       "  clip: rect(1px 1px 1px 1px);\n",
       "  clip: rect(1px, 1px, 1px, 1px);\n",
       "  height: 1px;\n",
       "  margin: -1px;\n",
       "  overflow: hidden;\n",
       "  padding: 0;\n",
       "  position: absolute;\n",
       "  width: 1px;\n",
       "}\n",
       "\n",
       "#sk-container-id-1 div.sk-dashed-wrapped {\n",
       "  border: 1px dashed var(--sklearn-color-line);\n",
       "  margin: 0 0.4em 0.5em 0.4em;\n",
       "  box-sizing: border-box;\n",
       "  padding-bottom: 0.4em;\n",
       "  background-color: var(--sklearn-color-background);\n",
       "}\n",
       "\n",
       "#sk-container-id-1 div.sk-container {\n",
       "  /* jupyter's `normalize.less` sets `[hidden] { display: none; }`\n",
       "     but bootstrap.min.css set `[hidden] { display: none !important; }`\n",
       "     so we also need the `!important` here to be able to override the\n",
       "     default hidden behavior on the sphinx rendered scikit-learn.org.\n",
       "     See: https://github.com/scikit-learn/scikit-learn/issues/21755 */\n",
       "  display: inline-block !important;\n",
       "  position: relative;\n",
       "}\n",
       "\n",
       "#sk-container-id-1 div.sk-text-repr-fallback {\n",
       "  display: none;\n",
       "}\n",
       "\n",
       "div.sk-parallel-item,\n",
       "div.sk-serial,\n",
       "div.sk-item {\n",
       "  /* draw centered vertical line to link estimators */\n",
       "  background-image: linear-gradient(var(--sklearn-color-text-on-default-background), var(--sklearn-color-text-on-default-background));\n",
       "  background-size: 2px 100%;\n",
       "  background-repeat: no-repeat;\n",
       "  background-position: center center;\n",
       "}\n",
       "\n",
       "/* Parallel-specific style estimator block */\n",
       "\n",
       "#sk-container-id-1 div.sk-parallel-item::after {\n",
       "  content: \"\";\n",
       "  width: 100%;\n",
       "  border-bottom: 2px solid var(--sklearn-color-text-on-default-background);\n",
       "  flex-grow: 1;\n",
       "}\n",
       "\n",
       "#sk-container-id-1 div.sk-parallel {\n",
       "  display: flex;\n",
       "  align-items: stretch;\n",
       "  justify-content: center;\n",
       "  background-color: var(--sklearn-color-background);\n",
       "  position: relative;\n",
       "}\n",
       "\n",
       "#sk-container-id-1 div.sk-parallel-item {\n",
       "  display: flex;\n",
       "  flex-direction: column;\n",
       "}\n",
       "\n",
       "#sk-container-id-1 div.sk-parallel-item:first-child::after {\n",
       "  align-self: flex-end;\n",
       "  width: 50%;\n",
       "}\n",
       "\n",
       "#sk-container-id-1 div.sk-parallel-item:last-child::after {\n",
       "  align-self: flex-start;\n",
       "  width: 50%;\n",
       "}\n",
       "\n",
       "#sk-container-id-1 div.sk-parallel-item:only-child::after {\n",
       "  width: 0;\n",
       "}\n",
       "\n",
       "/* Serial-specific style estimator block */\n",
       "\n",
       "#sk-container-id-1 div.sk-serial {\n",
       "  display: flex;\n",
       "  flex-direction: column;\n",
       "  align-items: center;\n",
       "  background-color: var(--sklearn-color-background);\n",
       "  padding-right: 1em;\n",
       "  padding-left: 1em;\n",
       "}\n",
       "\n",
       "\n",
       "/* Toggleable style: style used for estimator/Pipeline/ColumnTransformer box that is\n",
       "clickable and can be expanded/collapsed.\n",
       "- Pipeline and ColumnTransformer use this feature and define the default style\n",
       "- Estimators will overwrite some part of the style using the `sk-estimator` class\n",
       "*/\n",
       "\n",
       "/* Pipeline and ColumnTransformer style (default) */\n",
       "\n",
       "#sk-container-id-1 div.sk-toggleable {\n",
       "  /* Default theme specific background. It is overwritten whether we have a\n",
       "  specific estimator or a Pipeline/ColumnTransformer */\n",
       "  background-color: var(--sklearn-color-background);\n",
       "}\n",
       "\n",
       "/* Toggleable label */\n",
       "#sk-container-id-1 label.sk-toggleable__label {\n",
       "  cursor: pointer;\n",
       "  display: flex;\n",
       "  width: 100%;\n",
       "  margin-bottom: 0;\n",
       "  padding: 0.5em;\n",
       "  box-sizing: border-box;\n",
       "  text-align: center;\n",
       "  align-items: start;\n",
       "  justify-content: space-between;\n",
       "  gap: 0.5em;\n",
       "}\n",
       "\n",
       "#sk-container-id-1 label.sk-toggleable__label .caption {\n",
       "  font-size: 0.6rem;\n",
       "  font-weight: lighter;\n",
       "  color: var(--sklearn-color-text-muted);\n",
       "}\n",
       "\n",
       "#sk-container-id-1 label.sk-toggleable__label-arrow:before {\n",
       "  /* Arrow on the left of the label */\n",
       "  content: \"▸\";\n",
       "  float: left;\n",
       "  margin-right: 0.25em;\n",
       "  color: var(--sklearn-color-icon);\n",
       "}\n",
       "\n",
       "#sk-container-id-1 label.sk-toggleable__label-arrow:hover:before {\n",
       "  color: var(--sklearn-color-text);\n",
       "}\n",
       "\n",
       "/* Toggleable content - dropdown */\n",
       "\n",
       "#sk-container-id-1 div.sk-toggleable__content {\n",
       "  max-height: 0;\n",
       "  max-width: 0;\n",
       "  overflow: hidden;\n",
       "  text-align: left;\n",
       "  /* unfitted */\n",
       "  background-color: var(--sklearn-color-unfitted-level-0);\n",
       "}\n",
       "\n",
       "#sk-container-id-1 div.sk-toggleable__content.fitted {\n",
       "  /* fitted */\n",
       "  background-color: var(--sklearn-color-fitted-level-0);\n",
       "}\n",
       "\n",
       "#sk-container-id-1 div.sk-toggleable__content pre {\n",
       "  margin: 0.2em;\n",
       "  border-radius: 0.25em;\n",
       "  color: var(--sklearn-color-text);\n",
       "  /* unfitted */\n",
       "  background-color: var(--sklearn-color-unfitted-level-0);\n",
       "}\n",
       "\n",
       "#sk-container-id-1 div.sk-toggleable__content.fitted pre {\n",
       "  /* unfitted */\n",
       "  background-color: var(--sklearn-color-fitted-level-0);\n",
       "}\n",
       "\n",
       "#sk-container-id-1 input.sk-toggleable__control:checked~div.sk-toggleable__content {\n",
       "  /* Expand drop-down */\n",
       "  max-height: 200px;\n",
       "  max-width: 100%;\n",
       "  overflow: auto;\n",
       "}\n",
       "\n",
       "#sk-container-id-1 input.sk-toggleable__control:checked~label.sk-toggleable__label-arrow:before {\n",
       "  content: \"▾\";\n",
       "}\n",
       "\n",
       "/* Pipeline/ColumnTransformer-specific style */\n",
       "\n",
       "#sk-container-id-1 div.sk-label input.sk-toggleable__control:checked~label.sk-toggleable__label {\n",
       "  color: var(--sklearn-color-text);\n",
       "  background-color: var(--sklearn-color-unfitted-level-2);\n",
       "}\n",
       "\n",
       "#sk-container-id-1 div.sk-label.fitted input.sk-toggleable__control:checked~label.sk-toggleable__label {\n",
       "  background-color: var(--sklearn-color-fitted-level-2);\n",
       "}\n",
       "\n",
       "/* Estimator-specific style */\n",
       "\n",
       "/* Colorize estimator box */\n",
       "#sk-container-id-1 div.sk-estimator input.sk-toggleable__control:checked~label.sk-toggleable__label {\n",
       "  /* unfitted */\n",
       "  background-color: var(--sklearn-color-unfitted-level-2);\n",
       "}\n",
       "\n",
       "#sk-container-id-1 div.sk-estimator.fitted input.sk-toggleable__control:checked~label.sk-toggleable__label {\n",
       "  /* fitted */\n",
       "  background-color: var(--sklearn-color-fitted-level-2);\n",
       "}\n",
       "\n",
       "#sk-container-id-1 div.sk-label label.sk-toggleable__label,\n",
       "#sk-container-id-1 div.sk-label label {\n",
       "  /* The background is the default theme color */\n",
       "  color: var(--sklearn-color-text-on-default-background);\n",
       "}\n",
       "\n",
       "/* On hover, darken the color of the background */\n",
       "#sk-container-id-1 div.sk-label:hover label.sk-toggleable__label {\n",
       "  color: var(--sklearn-color-text);\n",
       "  background-color: var(--sklearn-color-unfitted-level-2);\n",
       "}\n",
       "\n",
       "/* Label box, darken color on hover, fitted */\n",
       "#sk-container-id-1 div.sk-label.fitted:hover label.sk-toggleable__label.fitted {\n",
       "  color: var(--sklearn-color-text);\n",
       "  background-color: var(--sklearn-color-fitted-level-2);\n",
       "}\n",
       "\n",
       "/* Estimator label */\n",
       "\n",
       "#sk-container-id-1 div.sk-label label {\n",
       "  font-family: monospace;\n",
       "  font-weight: bold;\n",
       "  display: inline-block;\n",
       "  line-height: 1.2em;\n",
       "}\n",
       "\n",
       "#sk-container-id-1 div.sk-label-container {\n",
       "  text-align: center;\n",
       "}\n",
       "\n",
       "/* Estimator-specific */\n",
       "#sk-container-id-1 div.sk-estimator {\n",
       "  font-family: monospace;\n",
       "  border: 1px dotted var(--sklearn-color-border-box);\n",
       "  border-radius: 0.25em;\n",
       "  box-sizing: border-box;\n",
       "  margin-bottom: 0.5em;\n",
       "  /* unfitted */\n",
       "  background-color: var(--sklearn-color-unfitted-level-0);\n",
       "}\n",
       "\n",
       "#sk-container-id-1 div.sk-estimator.fitted {\n",
       "  /* fitted */\n",
       "  background-color: var(--sklearn-color-fitted-level-0);\n",
       "}\n",
       "\n",
       "/* on hover */\n",
       "#sk-container-id-1 div.sk-estimator:hover {\n",
       "  /* unfitted */\n",
       "  background-color: var(--sklearn-color-unfitted-level-2);\n",
       "}\n",
       "\n",
       "#sk-container-id-1 div.sk-estimator.fitted:hover {\n",
       "  /* fitted */\n",
       "  background-color: var(--sklearn-color-fitted-level-2);\n",
       "}\n",
       "\n",
       "/* Specification for estimator info (e.g. \"i\" and \"?\") */\n",
       "\n",
       "/* Common style for \"i\" and \"?\" */\n",
       "\n",
       ".sk-estimator-doc-link,\n",
       "a:link.sk-estimator-doc-link,\n",
       "a:visited.sk-estimator-doc-link {\n",
       "  float: right;\n",
       "  font-size: smaller;\n",
       "  line-height: 1em;\n",
       "  font-family: monospace;\n",
       "  background-color: var(--sklearn-color-background);\n",
       "  border-radius: 1em;\n",
       "  height: 1em;\n",
       "  width: 1em;\n",
       "  text-decoration: none !important;\n",
       "  margin-left: 0.5em;\n",
       "  text-align: center;\n",
       "  /* unfitted */\n",
       "  border: var(--sklearn-color-unfitted-level-1) 1pt solid;\n",
       "  color: var(--sklearn-color-unfitted-level-1);\n",
       "}\n",
       "\n",
       ".sk-estimator-doc-link.fitted,\n",
       "a:link.sk-estimator-doc-link.fitted,\n",
       "a:visited.sk-estimator-doc-link.fitted {\n",
       "  /* fitted */\n",
       "  border: var(--sklearn-color-fitted-level-1) 1pt solid;\n",
       "  color: var(--sklearn-color-fitted-level-1);\n",
       "}\n",
       "\n",
       "/* On hover */\n",
       "div.sk-estimator:hover .sk-estimator-doc-link:hover,\n",
       ".sk-estimator-doc-link:hover,\n",
       "div.sk-label-container:hover .sk-estimator-doc-link:hover,\n",
       ".sk-estimator-doc-link:hover {\n",
       "  /* unfitted */\n",
       "  background-color: var(--sklearn-color-unfitted-level-3);\n",
       "  color: var(--sklearn-color-background);\n",
       "  text-decoration: none;\n",
       "}\n",
       "\n",
       "div.sk-estimator.fitted:hover .sk-estimator-doc-link.fitted:hover,\n",
       ".sk-estimator-doc-link.fitted:hover,\n",
       "div.sk-label-container:hover .sk-estimator-doc-link.fitted:hover,\n",
       ".sk-estimator-doc-link.fitted:hover {\n",
       "  /* fitted */\n",
       "  background-color: var(--sklearn-color-fitted-level-3);\n",
       "  color: var(--sklearn-color-background);\n",
       "  text-decoration: none;\n",
       "}\n",
       "\n",
       "/* Span, style for the box shown on hovering the info icon */\n",
       ".sk-estimator-doc-link span {\n",
       "  display: none;\n",
       "  z-index: 9999;\n",
       "  position: relative;\n",
       "  font-weight: normal;\n",
       "  right: .2ex;\n",
       "  padding: .5ex;\n",
       "  margin: .5ex;\n",
       "  width: min-content;\n",
       "  min-width: 20ex;\n",
       "  max-width: 50ex;\n",
       "  color: var(--sklearn-color-text);\n",
       "  box-shadow: 2pt 2pt 4pt #999;\n",
       "  /* unfitted */\n",
       "  background: var(--sklearn-color-unfitted-level-0);\n",
       "  border: .5pt solid var(--sklearn-color-unfitted-level-3);\n",
       "}\n",
       "\n",
       ".sk-estimator-doc-link.fitted span {\n",
       "  /* fitted */\n",
       "  background: var(--sklearn-color-fitted-level-0);\n",
       "  border: var(--sklearn-color-fitted-level-3);\n",
       "}\n",
       "\n",
       ".sk-estimator-doc-link:hover span {\n",
       "  display: block;\n",
       "}\n",
       "\n",
       "/* \"?\"-specific style due to the `<a>` HTML tag */\n",
       "\n",
       "#sk-container-id-1 a.estimator_doc_link {\n",
       "  float: right;\n",
       "  font-size: 1rem;\n",
       "  line-height: 1em;\n",
       "  font-family: monospace;\n",
       "  background-color: var(--sklearn-color-background);\n",
       "  border-radius: 1rem;\n",
       "  height: 1rem;\n",
       "  width: 1rem;\n",
       "  text-decoration: none;\n",
       "  /* unfitted */\n",
       "  color: var(--sklearn-color-unfitted-level-1);\n",
       "  border: var(--sklearn-color-unfitted-level-1) 1pt solid;\n",
       "}\n",
       "\n",
       "#sk-container-id-1 a.estimator_doc_link.fitted {\n",
       "  /* fitted */\n",
       "  border: var(--sklearn-color-fitted-level-1) 1pt solid;\n",
       "  color: var(--sklearn-color-fitted-level-1);\n",
       "}\n",
       "\n",
       "/* On hover */\n",
       "#sk-container-id-1 a.estimator_doc_link:hover {\n",
       "  /* unfitted */\n",
       "  background-color: var(--sklearn-color-unfitted-level-3);\n",
       "  color: var(--sklearn-color-background);\n",
       "  text-decoration: none;\n",
       "}\n",
       "\n",
       "#sk-container-id-1 a.estimator_doc_link.fitted:hover {\n",
       "  /* fitted */\n",
       "  background-color: var(--sklearn-color-fitted-level-3);\n",
       "}\n",
       "</style><div id=\"sk-container-id-1\" class=\"sk-top-container\"><div class=\"sk-text-repr-fallback\"><pre>TfidfVectorizer(stop_words=&#x27;english&#x27;)</pre><b>In a Jupyter environment, please rerun this cell to show the HTML representation or trust the notebook. <br />On GitHub, the HTML representation is unable to render, please try loading this page with nbviewer.org.</b></div><div class=\"sk-container\" hidden><div class=\"sk-item\"><div class=\"sk-estimator fitted sk-toggleable\"><input class=\"sk-toggleable__control sk-hidden--visually\" id=\"sk-estimator-id-1\" type=\"checkbox\" checked><label for=\"sk-estimator-id-1\" class=\"sk-toggleable__label fitted sk-toggleable__label-arrow\"><div><div>TfidfVectorizer</div></div><div><a class=\"sk-estimator-doc-link fitted\" rel=\"noreferrer\" target=\"_blank\" href=\"https://scikit-learn.org/1.6/modules/generated/sklearn.feature_extraction.text.TfidfVectorizer.html\">?<span>Documentation for TfidfVectorizer</span></a><span class=\"sk-estimator-doc-link fitted\">i<span>Fitted</span></span></div></label><div class=\"sk-toggleable__content fitted\"><pre>TfidfVectorizer(stop_words=&#x27;english&#x27;)</pre></div> </div></div></div></div>"
      ],
      "text/plain": [
       "TfidfVectorizer(stop_words='english')"
      ]
     },
     "execution_count": 9,
     "metadata": {},
     "output_type": "execute_result"
    }
   ],
   "source": [
    "tfidf"
   ]
  },
  {
   "cell_type": "code",
   "execution_count": 10,
   "metadata": {
    "colab": {
     "base_uri": "https://localhost:8080/"
    },
    "id": "w6uSco18UXVJ",
    "outputId": "f6638828-b132-4c48-baa4-638d75053bc6"
   },
   "outputs": [
    {
     "data": {
      "text/plain": [
       "<28372x14090 sparse matrix of type '<class 'numpy.float64'>'\n",
       "\twith 132224 stored elements in Compressed Sparse Row format>"
      ]
     },
     "execution_count": 10,
     "metadata": {},
     "output_type": "execute_result"
    }
   ],
   "source": [
    "tfidf_matrix"
   ]
  },
  {
   "cell_type": "markdown",
   "metadata": {
    "id": "pjZ-AGOfWt8V"
   },
   "source": [
    "## **Compute Similarity Scores**"
   ]
  },
  {
   "cell_type": "code",
   "execution_count": 11,
   "metadata": {},
   "outputs": [],
   "source": [
    "# Calculate the cosine similarity matrix\n",
    "cosine_sim = cosine_similarity(tfidf_matrix, tfidf_matrix)"
   ]
  },
  {
   "cell_type": "code",
   "execution_count": 12,
   "metadata": {},
   "outputs": [
    {
     "data": {
      "text/plain": [
       "array([[1.        , 0.02127698, 0.02506817, ..., 0.        , 0.        ,\n",
       "        0.        ],\n",
       "       [0.02127698, 1.        , 0.04007355, ..., 0.        , 0.        ,\n",
       "        0.        ],\n",
       "       [0.02506817, 0.04007355, 1.        , ..., 0.        , 0.        ,\n",
       "        0.        ],\n",
       "       ...,\n",
       "       [0.        , 0.        , 0.        , ..., 1.        , 0.21549394,\n",
       "        0.26273888],\n",
       "       [0.        , 0.        , 0.        , ..., 0.21549394, 1.        ,\n",
       "        0.27782655],\n",
       "       [0.        , 0.        , 0.        , ..., 0.26273888, 0.27782655,\n",
       "        1.        ]])"
      ]
     },
     "execution_count": 12,
     "metadata": {},
     "output_type": "execute_result"
    }
   ],
   "source": [
    "cosine_sim"
   ]
  },
  {
   "cell_type": "code",
   "execution_count": 13,
   "metadata": {
    "id": "eVN9tVdqUcDd"
   },
   "outputs": [],
   "source": [
    "# Define a function to get song recommendations based on a given song title,\n",
    "# the dataset, a cosine similarity matrix, and the number of recommendations (default 10)\n",
    "def get_recommendations(song_title, data, cosine_sim, top_n=10):\n",
    "    # Find the index of the song in the dataset that matches the given song title\n",
    "    idx = data[data['track_name'] == song_title].index\n",
    "    if len(idx) == 0:\n",
    "        print(\"Song not found in the dataset.\")\n",
    "        return\n",
    "\n",
    "    idx = idx[0]\n",
    "\n",
    "    # Get the pairwise similarity scores for the selected song with all other songs\n",
    "    sim_scores = list(enumerate(cosine_sim[idx]))\n",
    "\n",
    "    # Sort the similarity scores in descending order (most similar first)\n",
    "    sim_scores = sorted(sim_scores, key=lambda x: x[1], reverse=True)\n",
    "\n",
    "    # Exclude the first song itself and select the top_n most similar songs\n",
    "    sim_scores = sim_scores[1:top_n+1]\n",
    "\n",
    "    # Extract the indices of these top similar songs\n",
    "    song_indices = [i[0] for i in sim_scores]\n",
    "\n",
    "    # Return the subset of the original data corresponding to the recommended songs\n",
    "    recommendations = data.iloc[song_indices]\n",
    "    return recommendations"
   ]
  },
  {
   "cell_type": "markdown",
   "metadata": {
    "id": "5cEWKLBJW2tR"
   },
   "source": [
    "## **Generate Recommendations**"
   ]
  },
  {
   "cell_type": "code",
   "execution_count": 14,
   "metadata": {
    "colab": {
     "base_uri": "https://localhost:8080/"
    },
    "id": "Kb345Z7sUvC9",
    "outputId": "7187ea89-87bc-4f22-fb61-5bae995d9874"
   },
   "outputs": [
    {
     "name": "stdout",
     "output_type": "stream",
     "text": [
      "                    track_name     artist_name genre\n",
      "1183                love songs    margo guryan   pop\n",
      "1243             don't go away    margo guryan   pop\n",
      "1234            take a picture    margo guryan   pop\n",
      "1297              timothy gone    margo guryan   pop\n",
      "91              love love love     the clovers   pop\n",
      "3174          what about love?           heart   pop\n",
      "171    no love (but your love)   johnny mathis   pop\n",
      "430           love me, love me     ben e. king   pop\n",
      "20469         love, love, love  donny hathaway  jazz\n",
      "614     i love how you love me    bobby vinton   pop\n"
     ]
    }
   ],
   "source": [
    "# Get the top 10 song recommendations similar to the song titled 'love'\n",
    "recommended_songs = get_recommendations('love', data, cosine_sim, top_n=10)\n",
    "\n",
    "# Print the recommended songs showing only the track name, artist name, and genre columns\n",
    "print(recommended_songs[['track_name', 'artist_name', 'genre']])"
   ]
  },
  {
   "cell_type": "code",
   "execution_count": 15,
   "metadata": {
    "colab": {
     "base_uri": "https://localhost:8080/"
    },
    "id": "6iY5gWl2Z_tf",
    "outputId": "76922332-de36-4770-ee5b-d66125eed3a6"
   },
   "outputs": [
    {
     "name": "stdout",
     "output_type": "stream",
     "text": [
      "               track_name artist_name genre\n",
      "4475           you got it      *nsync   pop\n",
      "4533  tearin' up my heart      *nsync   pop\n",
      "4841        just got paid      *nsync   pop\n",
      "4839  no strings attached      *nsync   pop\n",
      "2656      beyond and back           x   pop\n",
      "2891                  9-9      r.e.m.   pop\n",
      "2277         this is pop?         xtc   pop\n",
      "2241          without you       heart   pop\n",
      "2953      this is the day     the the   pop\n",
      "6676            pop style       drake   pop\n"
     ]
    }
   ],
   "source": [
    "# Get the top 10 song recommendations similar to the song titled 'pop'\n",
    "recommended_songs = get_recommendations('pop', data, cosine_sim, top_n=10)\n",
    "\n",
    "# Print the recommended songs showing only the track name, artist name, and genre columns\n",
    "print(recommended_songs[['track_name', 'artist_name', 'genre']])"
   ]
  },
  {
   "cell_type": "code",
   "execution_count": 16,
   "metadata": {
    "colab": {
     "base_uri": "https://localhost:8080/"
    },
    "id": "doV5tryDUz-H",
    "outputId": "26b27c14-6e55-4709-9202-5b3831dd003f"
   },
   "outputs": [
    {
     "name": "stdout",
     "output_type": "stream",
     "text": [
      "                        track_name          artist_name    genre\n",
      "3089       this is not a love song    public image ltd.      pop\n",
      "3424                       seattle    public image ltd.      pop\n",
      "3099            the order of death    public image ltd.      pop\n",
      "2278                      annalisa    public image ltd.      pop\n",
      "2394                      poptones    public image ltd.      pop\n",
      "2403                     albatross    public image ltd.      pop\n",
      "5390             love and memories               o.a.r.      pop\n",
      "10776    memories are made of this          johnny cash  country\n",
      "339      memories are made of this  the everly brothers      pop\n",
      "10690  what would your memories do        george strait  country\n"
     ]
    }
   ],
   "source": [
    "# Get the top 10 song recommendations similar to the song titled 'memories'\n",
    "recommended_songs = get_recommendations('memories', data, cosine_sim, top_n=10)\n",
    "\n",
    "# Print the recommended songs showing only the track name, artist name, and genre columns\n",
    "print(recommended_songs[['track_name', 'artist_name', 'genre']])"
   ]
  },
  {
   "cell_type": "markdown",
   "metadata": {},
   "source": [
    "### *Model 1*\n",
    "    • TF-IDF (Term Frequency-Inverse Document Frequency) + Cosine Similarity\n",
    "\n",
    "### *Type*\n",
    "    • Content-Based Recommendation (based on lyrics)\n",
    "\n",
    "### *How it works*\n",
    "\t• It transforms song lyrics into vectors using TF-IDF.\n",
    "\t• The input keyword (e.g., “night”) is also transformed into a TF-IDF vector.\n",
    "\t• It calculates the cosine similarity between the keyword and every song in the dataset.\n",
    "\t• Then it recommends the top N songs that are most similar to the keyword.\n",
    "    \n",
    "### *Strengths of this model*\n",
    "\t• Simple and fast good as a baseline model.\n",
    "\t• Easy to understand and implement.\n",
    "\t• Works even if user history is not available (solves the cold start problem).\n",
    "    \n",
    "### *Limitations*\n",
    "\t• It does not understand the meaning of words, only their frequency and presence.\n",
    "\t• Recommendations may lack variety or personalization."
   ]
  },
  {
   "cell_type": "code",
   "execution_count": 17,
   "metadata": {},
   "outputs": [
    {
     "name": "stdout",
     "output_type": "stream",
     "text": [
      "                         track_name            artist_name    genre  \\\n",
      "6590                          drive              oh wonder      pop   \n",
      "8046                   hummingbirds                   love  country   \n",
      "665       i'm the one who loves you        the impressions      pop   \n",
      "9650               she loves my car          ronnie milsap  country   \n",
      "3510   i'll be loving you (forever)  new kids on the block      pop   \n",
      "21875              she loves me now              cocoa tea   reggae   \n",
      "14529                 who loves you                santana    blues   \n",
      "10362  all of me (loves all of you)          george strait  country   \n",
      "8599                   it'll be her        waylon jennings  country   \n",
      "18510               got to be loved              leon ware     jazz   \n",
      "\n",
      "       similarity  \n",
      "6590     0.955542  \n",
      "8046     0.939588  \n",
      "665      0.910868  \n",
      "9650     0.904167  \n",
      "3510     0.898881  \n",
      "21875    0.892799  \n",
      "14529    0.889003  \n",
      "10362    0.886461  \n",
      "8599     0.883351  \n",
      "18510    0.872129  \n"
     ]
    }
   ],
   "source": [
    "# Load dataset\n",
    "data = pd.read_csv('tcc_ceds_music.csv')\n",
    "\n",
    "# Fill NaNs in lyrics\n",
    "data['lyrics'] = data['lyrics'].fillna('')\n",
    "\n",
    "# Initialize TF-IDF Vectorizer on lyrics\n",
    "vectorizer = TfidfVectorizer(stop_words='english', max_features=5000)\n",
    "tfidf_matrix = vectorizer.fit_transform(data['lyrics'])\n",
    "\n",
    "# Function to recommend songs based on a keyword\n",
    "def recommend_by_keyword(keyword, top_n=10):\n",
    "    # Transform the keyword into TF-IDF vector\n",
    "    keyword_vec = vectorizer.transform([keyword])\n",
    "    \n",
    "    # Compute cosine similarity between keyword and all songs\n",
    "    cosine_sim = cosine_similarity(keyword_vec, tfidf_matrix).flatten()\n",
    "    \n",
    "    # Get top N indices\n",
    "    top_indices = cosine_sim.argsort()[::-1][:top_n]\n",
    "    \n",
    "    # Get the songs\n",
    "    recommendations = data.iloc[top_indices][['track_name', 'artist_name', 'genre', 'lyrics']]\n",
    "    \n",
    "    # Add similarity score\n",
    "    recommendations['similarity'] = cosine_sim[top_indices]\n",
    "    \n",
    "    return recommendations\n",
    "\n",
    "# Example: Recommend songs based on keyword \"love\"\n",
    "result = recommend_by_keyword(\"love\")\n",
    "print(result[['track_name', 'artist_name', 'genre', 'similarity']])"
   ]
  },
  {
   "cell_type": "markdown",
   "metadata": {},
   "source": [
    "### *Model 2*\n",
    "    • Word2Vec + Cosine Similarity\n",
    "\n",
    "### *Type*\n",
    "    • Content-Based Recommendation System (based on semantic meaning of lyrics)\n",
    "\n",
    "### *How it works*\n",
    "\t• The lyrics are preprocessed and tokenized (split into clean word lists).\n",
    "\t• A Word2Vec model is trained on all the lyrics to learn vector representations of words, based on their context.\n",
    "\t• Each song is represented by the average vector of all its words (using the trained Word2Vec model).\n",
    "\t• A keyword (e.g., “light”) is also turned into a vector using the same model.\n",
    "\t• Cosine similarity is calculated between the keyword vector and all song vectors.\n",
    "\t• The top N most semantically similar songs are returned.\n",
    "    \n",
    "### *Strengths of this model*\n",
    "\t• Understands semantic meaning and context better than TF-IDF (e.g., understands that “light” and “shine” may be related)\n",
    "\t• More intelligent recommendations based on word relationshipsป\n",
    " \t• Can capture synonyms and subtle meanings    \n",
    "    \n",
    "### *Limitations*\n",
    "\t• Needs more data and time to train Word2Vec\n",
    "\t• Quality of results depends on the quality of the trained Word2Vec model\n",
    "    • Still lacks user personalization — same result for everyone"
   ]
  },
  {
   "cell_type": "code",
   "execution_count": 30,
   "metadata": {},
   "outputs": [
    {
     "name": "stdout",
     "output_type": "stream",
     "text": [
      "                      track_name            artist_name    genre  \\\n",
      "28371                     r.i.p.                  jeezy  hip hop   \n",
      "9460              daylight again  crosby, stills & nash  country   \n",
      "9449                single women           dolly parton  country   \n",
      "9450               you are alive  crosby, stills & nash  country   \n",
      "9451   nobody's darling but mine          merle haggard  country   \n",
      "\n",
      "       similarity_score  \n",
      "28371               0.0  \n",
      "9460                0.0  \n",
      "9449                0.0  \n",
      "9450                0.0  \n",
      "9451                0.0  \n"
     ]
    }
   ],
   "source": [
    "# Load data\n",
    "data = pd.read_csv(\"tcc_ceds_music.csv\")\n",
    "data['lyrics'] = data['lyrics'].fillna('')  # Fill missing lyrics\n",
    "\n",
    "# Tokenize lyrics using gensim's utility\n",
    "data['tokens'] = data['lyrics'].apply(lambda x: simple_preprocess(x))\n",
    "\n",
    "# Train Word2Vec model\n",
    "w2v_model = Word2Vec(sentences=data['tokens'], vector_size=100, window=5, min_count=2, workers=4, sg=1)\n",
    "\n",
    "# Get average word vectors for each song\n",
    "def get_avg_vector(tokens, model):\n",
    "    vectors = [model.wv[word] for word in tokens if word in model.wv]\n",
    "    if vectors:\n",
    "        return np.mean(vectors, axis=0)\n",
    "    else:\n",
    "        return np.zeros(model.vector_size)\n",
    "\n",
    "data['vector'] = data['tokens'].apply(lambda tokens: get_avg_vector(tokens, w2v_model))\n",
    "\n",
    "# Recommendation function\n",
    "def recommend_keyword_w2v(keyword, top_n=5):\n",
    "    # Convert keyword to vector\n",
    "    keyword_tokens = simple_preprocess(keyword)\n",
    "    keyword_vec = get_avg_vector(keyword_tokens, w2v_model).reshape(1, -1)\n",
    "\n",
    "    # Calculate cosine similarity with all song vectors\n",
    "    vectors = np.stack(data['vector'].values)\n",
    "    similarities = cosine_similarity(keyword_vec, vectors).flatten()\n",
    "\n",
    "    # Top N recommendations\n",
    "    top_indices = similarities.argsort()[::-1][:top_n]\n",
    "    results = data.iloc[top_indices][['track_name', 'artist_name', 'genre']].copy()\n",
    "    results['similarity_score'] = similarities[top_indices]\n",
    "\n",
    "    return results\n",
    "\n",
    "# Example use\n",
    "print(recommend_keyword_w2v(\"fun\", top_n=5))"
   ]
  },
  {
   "cell_type": "markdown",
   "metadata": {},
   "source": [
    "### *Model 3*\n",
    "    • Audio Feature-Based Recommender + Cosine Similarity\n",
    "\n",
    "### *Type*\n",
    "    • Content-Based Recommendation (based on audio features like danceability, energy, etc.)\n",
    "\n",
    "### *How it works*\n",
    "\t• It uses audio-related features like danceability, energy, acousticness, etc.\n",
    "\t• These features are scaled and compared using cosine similarity.\n",
    "\t• Given a song, it finds other songs with similar audio characteristics.\n",
    "    \n",
    "### *Strengths of this model*\n",
    "\t• Provides recommendations based on the actual sound of the music, not just lyrics or metadata.\n",
    "\t• Can work without user history (solves the cold start problem).\n",
    "\t• Useful when users want songs with a similar vibe, mood, or energy.\n",
    "\t• Fast and efficient for medium-sized datasets.   \n",
    "    \n",
    "### *Limitations*\n",
    "\t• It does not consider lyrics or user preferences, so results may feel generic.\n",
    "\t• Similar-sounding songs may belong to different genres (can confuse users).\n",
    "\t• Quality of recommendations depends on the accuracy and completeness of audio features.\n",
    "\t• Cannot personalize to individual tastes unless combined with collaborative filtering."
   ]
  },
  {
   "cell_type": "code",
   "execution_count": 3,
   "metadata": {},
   "outputs": [
    {
     "name": "stdout",
     "output_type": "stream",
     "text": [
      "                    track_name          artist_name    genre\n",
      "15643             nasty letter          otis taylor    blues\n",
      "12617      from coast to coast      ella fitzgerald    blues\n",
      "8076         rock & roll woman  buffalo springfield  country\n",
      "13358   can't sleep this night          john mayall    blues\n",
      "19613                     glow          peter white     jazz\n",
      "20294                      cry          boney james     jazz\n",
      "14769       dead in the saddle            dead moon    blues\n",
      "2297   i feel mysterious today                 wire      pop\n",
      "13869                   busted             nazareth    blues\n",
      "15467                 new blue     widespread panic    blues\n"
     ]
    }
   ],
   "source": [
    "# Load and preprocess data\n",
    "data = pd.read_csv(\"tcc_ceds_music.csv\")\n",
    "\n",
    "# Define audio features to use\n",
    "feature_cols = ['acousticness', 'danceability', 'energy',\n",
    "                'instrumentalness', 'loudness', 'valence']\n",
    "\n",
    "# Handle missing values and scale features\n",
    "features = data[feature_cols].fillna(0)\n",
    "scaler = MinMaxScaler()\n",
    "features_scaled = scaler.fit_transform(features)\n",
    "\n",
    "# Compute cosine similarity between all songs\n",
    "similarity_matrix = cosine_similarity(features_scaled)\n",
    "\n",
    "# Define recommendation function\n",
    "def recommend_by_audio(song_index, top_n=5):\n",
    "    # Get similarity scores of the input song to all others\n",
    "    sim_scores = similarity_matrix[song_index]\n",
    "\n",
    "    # Sort scores in descending order and exclude the song itself\n",
    "    top_indices = sim_scores.argsort()[::-1][1:top_n+1]\n",
    "\n",
    "    # Return top N most similar songs\n",
    "    return data.iloc[top_indices][['track_name', 'artist_name', 'genre']].copy()\n",
    "\n",
    "# Example: Recommend songs similar to the song at index 10\n",
    "print(recommend_by_audio(13, top_n=10))"
   ]
  },
  {
   "cell_type": "markdown",
   "metadata": {},
   "source": [
    "## **Conclusion**"
   ]
  },
  {
   "cell_type": "markdown",
   "metadata": {},
   "source": [
    "### **Compare of All Models**"
   ]
  },
  {
   "cell_type": "markdown",
   "metadata": {},
   "source": [
    "| **Model**                                   | **Description**                                     | **Strengths**                                                  | **Limitations**                                           |\n",
    "|---------------------------------------------|-----------------------------------------------------|----------------------------------------------------------------|-----------------------------------------------------------|\n",
    "| **Baseline: TF-IDF + Cosine Similarity**     | Content-based using track, artist, genre (word frequency) – basic implementation | Simple and fast<br>Easy to implement<br>Cold-start friendly | No understanding of word meaning<br>No personalization |\n",
    "| **TF-IDF + Cosine Similarity**              | Content-based using lyrics (word frequency)         | Interpretable<br>No user data needed                     | Doesn’t capture context<br>Same output for all users |\n",
    "| **Word2Vec + Cosine Similarity**            | Content-based using word embeddings from lyrics     | Understands word meaning<br>Handles themes/synonyms       | Requires tokenized lyrics<br>No personalization       |\n",
    "| **Audio Feature-Based + Cosine Similarity** | Content-based using audio characteristics           | Language-independent<br>Captures music “feel”             | Ignores lyrics & user taste<br>Limited variety        |"
   ]
  },
  {
   "cell_type": "markdown",
   "metadata": {},
   "source": [
    "### **Summary All Models**"
   ]
  },
  {
   "cell_type": "markdown",
   "metadata": {},
   "source": [
    "| Use This Model When                                          | Recommended Model                              |\n",
    "|:----------------------------------------------------------------|:------------------------------------------------|\n",
    "| You want to recommend by mood/keyword                           | TF-IDF or Word2Vec                           |\n",
    "| You need better understanding of context                        | Word2Vec Recommender                         |\n",
    "| You don’t have any user rating history                          | TF-IDF / Word2Vec                            |\n",
    "| You want recommendations based on music feel or language-independent features | Audio Feature + Cosine Similarity            |"
   ]
  },
  {
   "cell_type": "markdown",
   "metadata": {},
   "source": [
    "### **Key Findings**\n",
    "1. Each model has unique strengths depending on available data (lyrics, audio features).\n",
    "2. Content-based models (TF-IDF, Word2Vec, Audio) work without user history, solving cold-start problems.\n",
    "3. Word2Vec performs better than TF-IDF in capturing word meanings in lyrics.\n",
    "4. Audio-based model is good when lyrics are missing or in multiple languages."
   ]
  },
  {
   "cell_type": "code",
   "execution_count": null,
   "metadata": {},
   "outputs": [],
   "source": []
  }
 ],
 "metadata": {
  "colab": {
   "provenance": []
  },
  "kernelspec": {
   "display_name": "Python 3.10 (tf-env)",
   "language": "python",
   "name": "tf-env"
  },
  "language_info": {
   "codemirror_mode": {
    "name": "ipython",
    "version": 3
   },
   "file_extension": ".py",
   "mimetype": "text/x-python",
   "name": "python",
   "nbconvert_exporter": "python",
   "pygments_lexer": "ipython3",
   "version": "3.10.12"
  }
 },
 "nbformat": 4,
 "nbformat_minor": 4
}
